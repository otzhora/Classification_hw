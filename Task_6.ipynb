{
  "nbformat": 4,
  "nbformat_minor": 0,
  "metadata": {
    "colab": {
      "name": "Task_6.ipynb",
      "provenance": []
    },
    "kernelspec": {
      "name": "python3",
      "display_name": "Python 3"
    },
    "widgets": {
      "application/vnd.jupyter.widget-state+json": {
        "99b6e467a61b4584b7232948e8f39bf7": {
          "model_module": "@jupyter-widgets/controls",
          "model_name": "HBoxModel",
          "state": {
            "_view_name": "HBoxView",
            "_dom_classes": [],
            "_model_name": "HBoxModel",
            "_view_module": "@jupyter-widgets/controls",
            "_model_module_version": "1.5.0",
            "_view_count": null,
            "_view_module_version": "1.5.0",
            "box_style": "",
            "layout": "IPY_MODEL_c477122daf474ecf940b71e053f4cba0",
            "_model_module": "@jupyter-widgets/controls",
            "children": [
              "IPY_MODEL_bfe482286ecb42b89bc90ada8fc49e52",
              "IPY_MODEL_24262f3112b94f7e8df43c9f9ddffda4"
            ]
          }
        },
        "c477122daf474ecf940b71e053f4cba0": {
          "model_module": "@jupyter-widgets/base",
          "model_name": "LayoutModel",
          "state": {
            "_view_name": "LayoutView",
            "grid_template_rows": null,
            "right": null,
            "justify_content": null,
            "_view_module": "@jupyter-widgets/base",
            "overflow": null,
            "_model_module_version": "1.2.0",
            "_view_count": null,
            "flex_flow": null,
            "width": null,
            "min_width": null,
            "border": null,
            "align_items": null,
            "bottom": null,
            "_model_module": "@jupyter-widgets/base",
            "top": null,
            "grid_column": null,
            "overflow_y": null,
            "overflow_x": null,
            "grid_auto_flow": null,
            "grid_area": null,
            "grid_template_columns": null,
            "flex": null,
            "_model_name": "LayoutModel",
            "justify_items": null,
            "grid_row": null,
            "max_height": null,
            "align_content": null,
            "visibility": null,
            "align_self": null,
            "height": null,
            "min_height": null,
            "padding": null,
            "grid_auto_rows": null,
            "grid_gap": null,
            "max_width": null,
            "order": null,
            "_view_module_version": "1.2.0",
            "grid_template_areas": null,
            "object_position": null,
            "object_fit": null,
            "grid_auto_columns": null,
            "margin": null,
            "display": null,
            "left": null
          }
        },
        "bfe482286ecb42b89bc90ada8fc49e52": {
          "model_module": "@jupyter-widgets/controls",
          "model_name": "FloatProgressModel",
          "state": {
            "_view_name": "ProgressView",
            "style": "IPY_MODEL_b79e9fd890da4cde8f7a9d054591d812",
            "_dom_classes": [],
            "description": "100%",
            "_model_name": "FloatProgressModel",
            "bar_style": "success",
            "max": 15000,
            "_view_module": "@jupyter-widgets/controls",
            "_model_module_version": "1.5.0",
            "value": 15000,
            "_view_count": null,
            "_view_module_version": "1.5.0",
            "orientation": "horizontal",
            "min": 0,
            "description_tooltip": null,
            "_model_module": "@jupyter-widgets/controls",
            "layout": "IPY_MODEL_f8b2e09432994f4db8a1fa59ad4bfa27"
          }
        },
        "24262f3112b94f7e8df43c9f9ddffda4": {
          "model_module": "@jupyter-widgets/controls",
          "model_name": "HTMLModel",
          "state": {
            "_view_name": "HTMLView",
            "style": "IPY_MODEL_93d2a313d784409692740055128f328a",
            "_dom_classes": [],
            "description": "",
            "_model_name": "HTMLModel",
            "placeholder": "​",
            "_view_module": "@jupyter-widgets/controls",
            "_model_module_version": "1.5.0",
            "value": " 15000/15000 [01:20&lt;00:00, 185.38it/s]",
            "_view_count": null,
            "_view_module_version": "1.5.0",
            "description_tooltip": null,
            "_model_module": "@jupyter-widgets/controls",
            "layout": "IPY_MODEL_71914fb1ecb347e498abb58883b2cd01"
          }
        },
        "b79e9fd890da4cde8f7a9d054591d812": {
          "model_module": "@jupyter-widgets/controls",
          "model_name": "ProgressStyleModel",
          "state": {
            "_view_name": "StyleView",
            "_model_name": "ProgressStyleModel",
            "description_width": "initial",
            "_view_module": "@jupyter-widgets/base",
            "_model_module_version": "1.5.0",
            "_view_count": null,
            "_view_module_version": "1.2.0",
            "bar_color": null,
            "_model_module": "@jupyter-widgets/controls"
          }
        },
        "f8b2e09432994f4db8a1fa59ad4bfa27": {
          "model_module": "@jupyter-widgets/base",
          "model_name": "LayoutModel",
          "state": {
            "_view_name": "LayoutView",
            "grid_template_rows": null,
            "right": null,
            "justify_content": null,
            "_view_module": "@jupyter-widgets/base",
            "overflow": null,
            "_model_module_version": "1.2.0",
            "_view_count": null,
            "flex_flow": null,
            "width": null,
            "min_width": null,
            "border": null,
            "align_items": null,
            "bottom": null,
            "_model_module": "@jupyter-widgets/base",
            "top": null,
            "grid_column": null,
            "overflow_y": null,
            "overflow_x": null,
            "grid_auto_flow": null,
            "grid_area": null,
            "grid_template_columns": null,
            "flex": null,
            "_model_name": "LayoutModel",
            "justify_items": null,
            "grid_row": null,
            "max_height": null,
            "align_content": null,
            "visibility": null,
            "align_self": null,
            "height": null,
            "min_height": null,
            "padding": null,
            "grid_auto_rows": null,
            "grid_gap": null,
            "max_width": null,
            "order": null,
            "_view_module_version": "1.2.0",
            "grid_template_areas": null,
            "object_position": null,
            "object_fit": null,
            "grid_auto_columns": null,
            "margin": null,
            "display": null,
            "left": null
          }
        },
        "93d2a313d784409692740055128f328a": {
          "model_module": "@jupyter-widgets/controls",
          "model_name": "DescriptionStyleModel",
          "state": {
            "_view_name": "StyleView",
            "_model_name": "DescriptionStyleModel",
            "description_width": "",
            "_view_module": "@jupyter-widgets/base",
            "_model_module_version": "1.5.0",
            "_view_count": null,
            "_view_module_version": "1.2.0",
            "_model_module": "@jupyter-widgets/controls"
          }
        },
        "71914fb1ecb347e498abb58883b2cd01": {
          "model_module": "@jupyter-widgets/base",
          "model_name": "LayoutModel",
          "state": {
            "_view_name": "LayoutView",
            "grid_template_rows": null,
            "right": null,
            "justify_content": null,
            "_view_module": "@jupyter-widgets/base",
            "overflow": null,
            "_model_module_version": "1.2.0",
            "_view_count": null,
            "flex_flow": null,
            "width": null,
            "min_width": null,
            "border": null,
            "align_items": null,
            "bottom": null,
            "_model_module": "@jupyter-widgets/base",
            "top": null,
            "grid_column": null,
            "overflow_y": null,
            "overflow_x": null,
            "grid_auto_flow": null,
            "grid_area": null,
            "grid_template_columns": null,
            "flex": null,
            "_model_name": "LayoutModel",
            "justify_items": null,
            "grid_row": null,
            "max_height": null,
            "align_content": null,
            "visibility": null,
            "align_self": null,
            "height": null,
            "min_height": null,
            "padding": null,
            "grid_auto_rows": null,
            "grid_gap": null,
            "max_width": null,
            "order": null,
            "_view_module_version": "1.2.0",
            "grid_template_areas": null,
            "object_position": null,
            "object_fit": null,
            "grid_auto_columns": null,
            "margin": null,
            "display": null,
            "left": null
          }
        },
        "7862ff93ce054236917df1cc1e5f45ee": {
          "model_module": "@jupyter-widgets/controls",
          "model_name": "HBoxModel",
          "state": {
            "_view_name": "HBoxView",
            "_dom_classes": [],
            "_model_name": "HBoxModel",
            "_view_module": "@jupyter-widgets/controls",
            "_model_module_version": "1.5.0",
            "_view_count": null,
            "_view_module_version": "1.5.0",
            "box_style": "",
            "layout": "IPY_MODEL_4fa8e426b85948f9839cfa29bc75dfe1",
            "_model_module": "@jupyter-widgets/controls",
            "children": [
              "IPY_MODEL_d6f07946d0de4b7a87825dc720ed0501",
              "IPY_MODEL_55feb9d1397d4338a08a583813bc4dd8"
            ]
          }
        },
        "4fa8e426b85948f9839cfa29bc75dfe1": {
          "model_module": "@jupyter-widgets/base",
          "model_name": "LayoutModel",
          "state": {
            "_view_name": "LayoutView",
            "grid_template_rows": null,
            "right": null,
            "justify_content": null,
            "_view_module": "@jupyter-widgets/base",
            "overflow": null,
            "_model_module_version": "1.2.0",
            "_view_count": null,
            "flex_flow": null,
            "width": null,
            "min_width": null,
            "border": null,
            "align_items": null,
            "bottom": null,
            "_model_module": "@jupyter-widgets/base",
            "top": null,
            "grid_column": null,
            "overflow_y": null,
            "overflow_x": null,
            "grid_auto_flow": null,
            "grid_area": null,
            "grid_template_columns": null,
            "flex": null,
            "_model_name": "LayoutModel",
            "justify_items": null,
            "grid_row": null,
            "max_height": null,
            "align_content": null,
            "visibility": null,
            "align_self": null,
            "height": null,
            "min_height": null,
            "padding": null,
            "grid_auto_rows": null,
            "grid_gap": null,
            "max_width": null,
            "order": null,
            "_view_module_version": "1.2.0",
            "grid_template_areas": null,
            "object_position": null,
            "object_fit": null,
            "grid_auto_columns": null,
            "margin": null,
            "display": null,
            "left": null
          }
        },
        "d6f07946d0de4b7a87825dc720ed0501": {
          "model_module": "@jupyter-widgets/controls",
          "model_name": "FloatProgressModel",
          "state": {
            "_view_name": "ProgressView",
            "style": "IPY_MODEL_ed0856b248c64062b64042284afe16e3",
            "_dom_classes": [],
            "description": "100%",
            "_model_name": "FloatProgressModel",
            "bar_style": "success",
            "max": 3000,
            "_view_module": "@jupyter-widgets/controls",
            "_model_module_version": "1.5.0",
            "value": 3000,
            "_view_count": null,
            "_view_module_version": "1.5.0",
            "orientation": "horizontal",
            "min": 0,
            "description_tooltip": null,
            "_model_module": "@jupyter-widgets/controls",
            "layout": "IPY_MODEL_f8c6b7bd287c4505ad3ea0e34e7f63dd"
          }
        },
        "55feb9d1397d4338a08a583813bc4dd8": {
          "model_module": "@jupyter-widgets/controls",
          "model_name": "HTMLModel",
          "state": {
            "_view_name": "HTMLView",
            "style": "IPY_MODEL_03679e68117f4810814417ef3d99c894",
            "_dom_classes": [],
            "description": "",
            "_model_name": "HTMLModel",
            "placeholder": "​",
            "_view_module": "@jupyter-widgets/controls",
            "_model_module_version": "1.5.0",
            "value": " 3000/3000 [00:16&lt;00:00, 178.20it/s]",
            "_view_count": null,
            "_view_module_version": "1.5.0",
            "description_tooltip": null,
            "_model_module": "@jupyter-widgets/controls",
            "layout": "IPY_MODEL_663a343e7e2247cab33e7059381a9268"
          }
        },
        "ed0856b248c64062b64042284afe16e3": {
          "model_module": "@jupyter-widgets/controls",
          "model_name": "ProgressStyleModel",
          "state": {
            "_view_name": "StyleView",
            "_model_name": "ProgressStyleModel",
            "description_width": "initial",
            "_view_module": "@jupyter-widgets/base",
            "_model_module_version": "1.5.0",
            "_view_count": null,
            "_view_module_version": "1.2.0",
            "bar_color": null,
            "_model_module": "@jupyter-widgets/controls"
          }
        },
        "f8c6b7bd287c4505ad3ea0e34e7f63dd": {
          "model_module": "@jupyter-widgets/base",
          "model_name": "LayoutModel",
          "state": {
            "_view_name": "LayoutView",
            "grid_template_rows": null,
            "right": null,
            "justify_content": null,
            "_view_module": "@jupyter-widgets/base",
            "overflow": null,
            "_model_module_version": "1.2.0",
            "_view_count": null,
            "flex_flow": null,
            "width": null,
            "min_width": null,
            "border": null,
            "align_items": null,
            "bottom": null,
            "_model_module": "@jupyter-widgets/base",
            "top": null,
            "grid_column": null,
            "overflow_y": null,
            "overflow_x": null,
            "grid_auto_flow": null,
            "grid_area": null,
            "grid_template_columns": null,
            "flex": null,
            "_model_name": "LayoutModel",
            "justify_items": null,
            "grid_row": null,
            "max_height": null,
            "align_content": null,
            "visibility": null,
            "align_self": null,
            "height": null,
            "min_height": null,
            "padding": null,
            "grid_auto_rows": null,
            "grid_gap": null,
            "max_width": null,
            "order": null,
            "_view_module_version": "1.2.0",
            "grid_template_areas": null,
            "object_position": null,
            "object_fit": null,
            "grid_auto_columns": null,
            "margin": null,
            "display": null,
            "left": null
          }
        },
        "03679e68117f4810814417ef3d99c894": {
          "model_module": "@jupyter-widgets/controls",
          "model_name": "DescriptionStyleModel",
          "state": {
            "_view_name": "StyleView",
            "_model_name": "DescriptionStyleModel",
            "description_width": "",
            "_view_module": "@jupyter-widgets/base",
            "_model_module_version": "1.5.0",
            "_view_count": null,
            "_view_module_version": "1.2.0",
            "_model_module": "@jupyter-widgets/controls"
          }
        },
        "663a343e7e2247cab33e7059381a9268": {
          "model_module": "@jupyter-widgets/base",
          "model_name": "LayoutModel",
          "state": {
            "_view_name": "LayoutView",
            "grid_template_rows": null,
            "right": null,
            "justify_content": null,
            "_view_module": "@jupyter-widgets/base",
            "overflow": null,
            "_model_module_version": "1.2.0",
            "_view_count": null,
            "flex_flow": null,
            "width": null,
            "min_width": null,
            "border": null,
            "align_items": null,
            "bottom": null,
            "_model_module": "@jupyter-widgets/base",
            "top": null,
            "grid_column": null,
            "overflow_y": null,
            "overflow_x": null,
            "grid_auto_flow": null,
            "grid_area": null,
            "grid_template_columns": null,
            "flex": null,
            "_model_name": "LayoutModel",
            "justify_items": null,
            "grid_row": null,
            "max_height": null,
            "align_content": null,
            "visibility": null,
            "align_self": null,
            "height": null,
            "min_height": null,
            "padding": null,
            "grid_auto_rows": null,
            "grid_gap": null,
            "max_width": null,
            "order": null,
            "_view_module_version": "1.2.0",
            "grid_template_areas": null,
            "object_position": null,
            "object_fit": null,
            "grid_auto_columns": null,
            "margin": null,
            "display": null,
            "left": null
          }
        },
        "94e008dbf61d487ea17fdee69889cdf9": {
          "model_module": "@jupyter-widgets/controls",
          "model_name": "HBoxModel",
          "state": {
            "_view_name": "HBoxView",
            "_dom_classes": [],
            "_model_name": "HBoxModel",
            "_view_module": "@jupyter-widgets/controls",
            "_model_module_version": "1.5.0",
            "_view_count": null,
            "_view_module_version": "1.5.0",
            "box_style": "",
            "layout": "IPY_MODEL_2db5df90df7046949d40b41de87589f4",
            "_model_module": "@jupyter-widgets/controls",
            "children": [
              "IPY_MODEL_fe3c6bb1ce8649419e7f501788ee7606",
              "IPY_MODEL_990b9b2758194363bf2934f7c84a9772"
            ]
          }
        },
        "2db5df90df7046949d40b41de87589f4": {
          "model_module": "@jupyter-widgets/base",
          "model_name": "LayoutModel",
          "state": {
            "_view_name": "LayoutView",
            "grid_template_rows": null,
            "right": null,
            "justify_content": null,
            "_view_module": "@jupyter-widgets/base",
            "overflow": null,
            "_model_module_version": "1.2.0",
            "_view_count": null,
            "flex_flow": null,
            "width": null,
            "min_width": null,
            "border": null,
            "align_items": null,
            "bottom": null,
            "_model_module": "@jupyter-widgets/base",
            "top": null,
            "grid_column": null,
            "overflow_y": null,
            "overflow_x": null,
            "grid_auto_flow": null,
            "grid_area": null,
            "grid_template_columns": null,
            "flex": null,
            "_model_name": "LayoutModel",
            "justify_items": null,
            "grid_row": null,
            "max_height": null,
            "align_content": null,
            "visibility": null,
            "align_self": null,
            "height": null,
            "min_height": null,
            "padding": null,
            "grid_auto_rows": null,
            "grid_gap": null,
            "max_width": null,
            "order": null,
            "_view_module_version": "1.2.0",
            "grid_template_areas": null,
            "object_position": null,
            "object_fit": null,
            "grid_auto_columns": null,
            "margin": null,
            "display": null,
            "left": null
          }
        },
        "fe3c6bb1ce8649419e7f501788ee7606": {
          "model_module": "@jupyter-widgets/controls",
          "model_name": "FloatProgressModel",
          "state": {
            "_view_name": "ProgressView",
            "style": "IPY_MODEL_c8420ce3804d43b1b2f55e24a7f66d8b",
            "_dom_classes": [],
            "description": "100%",
            "_model_name": "FloatProgressModel",
            "bar_style": "success",
            "max": 15000,
            "_view_module": "@jupyter-widgets/controls",
            "_model_module_version": "1.5.0",
            "value": 15000,
            "_view_count": null,
            "_view_module_version": "1.5.0",
            "orientation": "horizontal",
            "min": 0,
            "description_tooltip": null,
            "_model_module": "@jupyter-widgets/controls",
            "layout": "IPY_MODEL_28e25b62825249d2b4c0d5e181c7c8c0"
          }
        },
        "990b9b2758194363bf2934f7c84a9772": {
          "model_module": "@jupyter-widgets/controls",
          "model_name": "HTMLModel",
          "state": {
            "_view_name": "HTMLView",
            "style": "IPY_MODEL_48078771fe384e38a46ec6a1126126ca",
            "_dom_classes": [],
            "description": "",
            "_model_name": "HTMLModel",
            "placeholder": "​",
            "_view_module": "@jupyter-widgets/controls",
            "_model_module_version": "1.5.0",
            "value": " 15000/15000 [00:12&lt;00:00, 1181.97it/s]",
            "_view_count": null,
            "_view_module_version": "1.5.0",
            "description_tooltip": null,
            "_model_module": "@jupyter-widgets/controls",
            "layout": "IPY_MODEL_e99867cc405a48b7b73ccd419ddf3999"
          }
        },
        "c8420ce3804d43b1b2f55e24a7f66d8b": {
          "model_module": "@jupyter-widgets/controls",
          "model_name": "ProgressStyleModel",
          "state": {
            "_view_name": "StyleView",
            "_model_name": "ProgressStyleModel",
            "description_width": "initial",
            "_view_module": "@jupyter-widgets/base",
            "_model_module_version": "1.5.0",
            "_view_count": null,
            "_view_module_version": "1.2.0",
            "bar_color": null,
            "_model_module": "@jupyter-widgets/controls"
          }
        },
        "28e25b62825249d2b4c0d5e181c7c8c0": {
          "model_module": "@jupyter-widgets/base",
          "model_name": "LayoutModel",
          "state": {
            "_view_name": "LayoutView",
            "grid_template_rows": null,
            "right": null,
            "justify_content": null,
            "_view_module": "@jupyter-widgets/base",
            "overflow": null,
            "_model_module_version": "1.2.0",
            "_view_count": null,
            "flex_flow": null,
            "width": null,
            "min_width": null,
            "border": null,
            "align_items": null,
            "bottom": null,
            "_model_module": "@jupyter-widgets/base",
            "top": null,
            "grid_column": null,
            "overflow_y": null,
            "overflow_x": null,
            "grid_auto_flow": null,
            "grid_area": null,
            "grid_template_columns": null,
            "flex": null,
            "_model_name": "LayoutModel",
            "justify_items": null,
            "grid_row": null,
            "max_height": null,
            "align_content": null,
            "visibility": null,
            "align_self": null,
            "height": null,
            "min_height": null,
            "padding": null,
            "grid_auto_rows": null,
            "grid_gap": null,
            "max_width": null,
            "order": null,
            "_view_module_version": "1.2.0",
            "grid_template_areas": null,
            "object_position": null,
            "object_fit": null,
            "grid_auto_columns": null,
            "margin": null,
            "display": null,
            "left": null
          }
        },
        "48078771fe384e38a46ec6a1126126ca": {
          "model_module": "@jupyter-widgets/controls",
          "model_name": "DescriptionStyleModel",
          "state": {
            "_view_name": "StyleView",
            "_model_name": "DescriptionStyleModel",
            "description_width": "",
            "_view_module": "@jupyter-widgets/base",
            "_model_module_version": "1.5.0",
            "_view_count": null,
            "_view_module_version": "1.2.0",
            "_model_module": "@jupyter-widgets/controls"
          }
        },
        "e99867cc405a48b7b73ccd419ddf3999": {
          "model_module": "@jupyter-widgets/base",
          "model_name": "LayoutModel",
          "state": {
            "_view_name": "LayoutView",
            "grid_template_rows": null,
            "right": null,
            "justify_content": null,
            "_view_module": "@jupyter-widgets/base",
            "overflow": null,
            "_model_module_version": "1.2.0",
            "_view_count": null,
            "flex_flow": null,
            "width": null,
            "min_width": null,
            "border": null,
            "align_items": null,
            "bottom": null,
            "_model_module": "@jupyter-widgets/base",
            "top": null,
            "grid_column": null,
            "overflow_y": null,
            "overflow_x": null,
            "grid_auto_flow": null,
            "grid_area": null,
            "grid_template_columns": null,
            "flex": null,
            "_model_name": "LayoutModel",
            "justify_items": null,
            "grid_row": null,
            "max_height": null,
            "align_content": null,
            "visibility": null,
            "align_self": null,
            "height": null,
            "min_height": null,
            "padding": null,
            "grid_auto_rows": null,
            "grid_gap": null,
            "max_width": null,
            "order": null,
            "_view_module_version": "1.2.0",
            "grid_template_areas": null,
            "object_position": null,
            "object_fit": null,
            "grid_auto_columns": null,
            "margin": null,
            "display": null,
            "left": null
          }
        },
        "86f3b2aeb89244b7b137d015ffffe7ae": {
          "model_module": "@jupyter-widgets/controls",
          "model_name": "HBoxModel",
          "state": {
            "_view_name": "HBoxView",
            "_dom_classes": [],
            "_model_name": "HBoxModel",
            "_view_module": "@jupyter-widgets/controls",
            "_model_module_version": "1.5.0",
            "_view_count": null,
            "_view_module_version": "1.5.0",
            "box_style": "",
            "layout": "IPY_MODEL_79689c444409490b998bb26807a9316b",
            "_model_module": "@jupyter-widgets/controls",
            "children": [
              "IPY_MODEL_63dc39a40207436da32c624d6d05f022",
              "IPY_MODEL_0b35e7b24ec94124917e6faa67c0875a"
            ]
          }
        },
        "79689c444409490b998bb26807a9316b": {
          "model_module": "@jupyter-widgets/base",
          "model_name": "LayoutModel",
          "state": {
            "_view_name": "LayoutView",
            "grid_template_rows": null,
            "right": null,
            "justify_content": null,
            "_view_module": "@jupyter-widgets/base",
            "overflow": null,
            "_model_module_version": "1.2.0",
            "_view_count": null,
            "flex_flow": null,
            "width": null,
            "min_width": null,
            "border": null,
            "align_items": null,
            "bottom": null,
            "_model_module": "@jupyter-widgets/base",
            "top": null,
            "grid_column": null,
            "overflow_y": null,
            "overflow_x": null,
            "grid_auto_flow": null,
            "grid_area": null,
            "grid_template_columns": null,
            "flex": null,
            "_model_name": "LayoutModel",
            "justify_items": null,
            "grid_row": null,
            "max_height": null,
            "align_content": null,
            "visibility": null,
            "align_self": null,
            "height": null,
            "min_height": null,
            "padding": null,
            "grid_auto_rows": null,
            "grid_gap": null,
            "max_width": null,
            "order": null,
            "_view_module_version": "1.2.0",
            "grid_template_areas": null,
            "object_position": null,
            "object_fit": null,
            "grid_auto_columns": null,
            "margin": null,
            "display": null,
            "left": null
          }
        },
        "63dc39a40207436da32c624d6d05f022": {
          "model_module": "@jupyter-widgets/controls",
          "model_name": "FloatProgressModel",
          "state": {
            "_view_name": "ProgressView",
            "style": "IPY_MODEL_658c507c5fa543f9845fe743705dec30",
            "_dom_classes": [],
            "description": "100%",
            "_model_name": "FloatProgressModel",
            "bar_style": "success",
            "max": 3000,
            "_view_module": "@jupyter-widgets/controls",
            "_model_module_version": "1.5.0",
            "value": 3000,
            "_view_count": null,
            "_view_module_version": "1.5.0",
            "orientation": "horizontal",
            "min": 0,
            "description_tooltip": null,
            "_model_module": "@jupyter-widgets/controls",
            "layout": "IPY_MODEL_a42405325ef74934a3158b4ff11df9fc"
          }
        },
        "0b35e7b24ec94124917e6faa67c0875a": {
          "model_module": "@jupyter-widgets/controls",
          "model_name": "HTMLModel",
          "state": {
            "_view_name": "HTMLView",
            "style": "IPY_MODEL_518e4454c26b447683dfb10bbdfad85c",
            "_dom_classes": [],
            "description": "",
            "_model_name": "HTMLModel",
            "placeholder": "​",
            "_view_module": "@jupyter-widgets/controls",
            "_model_module_version": "1.5.0",
            "value": " 3000/3000 [00:02&lt;00:00, 1366.39it/s]",
            "_view_count": null,
            "_view_module_version": "1.5.0",
            "description_tooltip": null,
            "_model_module": "@jupyter-widgets/controls",
            "layout": "IPY_MODEL_4055fbba661849a397d198064091c131"
          }
        },
        "658c507c5fa543f9845fe743705dec30": {
          "model_module": "@jupyter-widgets/controls",
          "model_name": "ProgressStyleModel",
          "state": {
            "_view_name": "StyleView",
            "_model_name": "ProgressStyleModel",
            "description_width": "initial",
            "_view_module": "@jupyter-widgets/base",
            "_model_module_version": "1.5.0",
            "_view_count": null,
            "_view_module_version": "1.2.0",
            "bar_color": null,
            "_model_module": "@jupyter-widgets/controls"
          }
        },
        "a42405325ef74934a3158b4ff11df9fc": {
          "model_module": "@jupyter-widgets/base",
          "model_name": "LayoutModel",
          "state": {
            "_view_name": "LayoutView",
            "grid_template_rows": null,
            "right": null,
            "justify_content": null,
            "_view_module": "@jupyter-widgets/base",
            "overflow": null,
            "_model_module_version": "1.2.0",
            "_view_count": null,
            "flex_flow": null,
            "width": null,
            "min_width": null,
            "border": null,
            "align_items": null,
            "bottom": null,
            "_model_module": "@jupyter-widgets/base",
            "top": null,
            "grid_column": null,
            "overflow_y": null,
            "overflow_x": null,
            "grid_auto_flow": null,
            "grid_area": null,
            "grid_template_columns": null,
            "flex": null,
            "_model_name": "LayoutModel",
            "justify_items": null,
            "grid_row": null,
            "max_height": null,
            "align_content": null,
            "visibility": null,
            "align_self": null,
            "height": null,
            "min_height": null,
            "padding": null,
            "grid_auto_rows": null,
            "grid_gap": null,
            "max_width": null,
            "order": null,
            "_view_module_version": "1.2.0",
            "grid_template_areas": null,
            "object_position": null,
            "object_fit": null,
            "grid_auto_columns": null,
            "margin": null,
            "display": null,
            "left": null
          }
        },
        "518e4454c26b447683dfb10bbdfad85c": {
          "model_module": "@jupyter-widgets/controls",
          "model_name": "DescriptionStyleModel",
          "state": {
            "_view_name": "StyleView",
            "_model_name": "DescriptionStyleModel",
            "description_width": "",
            "_view_module": "@jupyter-widgets/base",
            "_model_module_version": "1.5.0",
            "_view_count": null,
            "_view_module_version": "1.2.0",
            "_model_module": "@jupyter-widgets/controls"
          }
        },
        "4055fbba661849a397d198064091c131": {
          "model_module": "@jupyter-widgets/base",
          "model_name": "LayoutModel",
          "state": {
            "_view_name": "LayoutView",
            "grid_template_rows": null,
            "right": null,
            "justify_content": null,
            "_view_module": "@jupyter-widgets/base",
            "overflow": null,
            "_model_module_version": "1.2.0",
            "_view_count": null,
            "flex_flow": null,
            "width": null,
            "min_width": null,
            "border": null,
            "align_items": null,
            "bottom": null,
            "_model_module": "@jupyter-widgets/base",
            "top": null,
            "grid_column": null,
            "overflow_y": null,
            "overflow_x": null,
            "grid_auto_flow": null,
            "grid_area": null,
            "grid_template_columns": null,
            "flex": null,
            "_model_name": "LayoutModel",
            "justify_items": null,
            "grid_row": null,
            "max_height": null,
            "align_content": null,
            "visibility": null,
            "align_self": null,
            "height": null,
            "min_height": null,
            "padding": null,
            "grid_auto_rows": null,
            "grid_gap": null,
            "max_width": null,
            "order": null,
            "_view_module_version": "1.2.0",
            "grid_template_areas": null,
            "object_position": null,
            "object_fit": null,
            "grid_auto_columns": null,
            "margin": null,
            "display": null,
            "left": null
          }
        },
        "47449fc50c854e85acbc9a078909bc41": {
          "model_module": "@jupyter-widgets/controls",
          "model_name": "HBoxModel",
          "state": {
            "_view_name": "HBoxView",
            "_dom_classes": [],
            "_model_name": "HBoxModel",
            "_view_module": "@jupyter-widgets/controls",
            "_model_module_version": "1.5.0",
            "_view_count": null,
            "_view_module_version": "1.5.0",
            "box_style": "",
            "layout": "IPY_MODEL_8f48e9cc363d491cb4389413f8e4d7a5",
            "_model_module": "@jupyter-widgets/controls",
            "children": [
              "IPY_MODEL_069b74a73bc74d32be2238f2da3d6690",
              "IPY_MODEL_301f9b29d7924788af5e05c187f7ef01"
            ]
          }
        },
        "8f48e9cc363d491cb4389413f8e4d7a5": {
          "model_module": "@jupyter-widgets/base",
          "model_name": "LayoutModel",
          "state": {
            "_view_name": "LayoutView",
            "grid_template_rows": null,
            "right": null,
            "justify_content": null,
            "_view_module": "@jupyter-widgets/base",
            "overflow": null,
            "_model_module_version": "1.2.0",
            "_view_count": null,
            "flex_flow": null,
            "width": null,
            "min_width": null,
            "border": null,
            "align_items": null,
            "bottom": null,
            "_model_module": "@jupyter-widgets/base",
            "top": null,
            "grid_column": null,
            "overflow_y": null,
            "overflow_x": null,
            "grid_auto_flow": null,
            "grid_area": null,
            "grid_template_columns": null,
            "flex": null,
            "_model_name": "LayoutModel",
            "justify_items": null,
            "grid_row": null,
            "max_height": null,
            "align_content": null,
            "visibility": null,
            "align_self": null,
            "height": null,
            "min_height": null,
            "padding": null,
            "grid_auto_rows": null,
            "grid_gap": null,
            "max_width": null,
            "order": null,
            "_view_module_version": "1.2.0",
            "grid_template_areas": null,
            "object_position": null,
            "object_fit": null,
            "grid_auto_columns": null,
            "margin": null,
            "display": null,
            "left": null
          }
        },
        "069b74a73bc74d32be2238f2da3d6690": {
          "model_module": "@jupyter-widgets/controls",
          "model_name": "FloatProgressModel",
          "state": {
            "_view_name": "ProgressView",
            "style": "IPY_MODEL_17424cb5dd4e4bf7b1ceb84ae4d51364",
            "_dom_classes": [],
            "description": "100%",
            "_model_name": "FloatProgressModel",
            "bar_style": "success",
            "max": 15000,
            "_view_module": "@jupyter-widgets/controls",
            "_model_module_version": "1.5.0",
            "value": 15000,
            "_view_count": null,
            "_view_module_version": "1.5.0",
            "orientation": "horizontal",
            "min": 0,
            "description_tooltip": null,
            "_model_module": "@jupyter-widgets/controls",
            "layout": "IPY_MODEL_78e43caeaa2348aaa7a346b790522516"
          }
        },
        "301f9b29d7924788af5e05c187f7ef01": {
          "model_module": "@jupyter-widgets/controls",
          "model_name": "HTMLModel",
          "state": {
            "_view_name": "HTMLView",
            "style": "IPY_MODEL_004bdf126cb0441eb4b01fdedddd6444",
            "_dom_classes": [],
            "description": "",
            "_model_name": "HTMLModel",
            "placeholder": "​",
            "_view_module": "@jupyter-widgets/controls",
            "_model_module_version": "1.5.0",
            "value": " 15000/15000 [00:00&lt;00:00, 16932.13it/s]",
            "_view_count": null,
            "_view_module_version": "1.5.0",
            "description_tooltip": null,
            "_model_module": "@jupyter-widgets/controls",
            "layout": "IPY_MODEL_934fc2590eba423caae7bf347ad9d6da"
          }
        },
        "17424cb5dd4e4bf7b1ceb84ae4d51364": {
          "model_module": "@jupyter-widgets/controls",
          "model_name": "ProgressStyleModel",
          "state": {
            "_view_name": "StyleView",
            "_model_name": "ProgressStyleModel",
            "description_width": "initial",
            "_view_module": "@jupyter-widgets/base",
            "_model_module_version": "1.5.0",
            "_view_count": null,
            "_view_module_version": "1.2.0",
            "bar_color": null,
            "_model_module": "@jupyter-widgets/controls"
          }
        },
        "78e43caeaa2348aaa7a346b790522516": {
          "model_module": "@jupyter-widgets/base",
          "model_name": "LayoutModel",
          "state": {
            "_view_name": "LayoutView",
            "grid_template_rows": null,
            "right": null,
            "justify_content": null,
            "_view_module": "@jupyter-widgets/base",
            "overflow": null,
            "_model_module_version": "1.2.0",
            "_view_count": null,
            "flex_flow": null,
            "width": null,
            "min_width": null,
            "border": null,
            "align_items": null,
            "bottom": null,
            "_model_module": "@jupyter-widgets/base",
            "top": null,
            "grid_column": null,
            "overflow_y": null,
            "overflow_x": null,
            "grid_auto_flow": null,
            "grid_area": null,
            "grid_template_columns": null,
            "flex": null,
            "_model_name": "LayoutModel",
            "justify_items": null,
            "grid_row": null,
            "max_height": null,
            "align_content": null,
            "visibility": null,
            "align_self": null,
            "height": null,
            "min_height": null,
            "padding": null,
            "grid_auto_rows": null,
            "grid_gap": null,
            "max_width": null,
            "order": null,
            "_view_module_version": "1.2.0",
            "grid_template_areas": null,
            "object_position": null,
            "object_fit": null,
            "grid_auto_columns": null,
            "margin": null,
            "display": null,
            "left": null
          }
        },
        "004bdf126cb0441eb4b01fdedddd6444": {
          "model_module": "@jupyter-widgets/controls",
          "model_name": "DescriptionStyleModel",
          "state": {
            "_view_name": "StyleView",
            "_model_name": "DescriptionStyleModel",
            "description_width": "",
            "_view_module": "@jupyter-widgets/base",
            "_model_module_version": "1.5.0",
            "_view_count": null,
            "_view_module_version": "1.2.0",
            "_model_module": "@jupyter-widgets/controls"
          }
        },
        "934fc2590eba423caae7bf347ad9d6da": {
          "model_module": "@jupyter-widgets/base",
          "model_name": "LayoutModel",
          "state": {
            "_view_name": "LayoutView",
            "grid_template_rows": null,
            "right": null,
            "justify_content": null,
            "_view_module": "@jupyter-widgets/base",
            "overflow": null,
            "_model_module_version": "1.2.0",
            "_view_count": null,
            "flex_flow": null,
            "width": null,
            "min_width": null,
            "border": null,
            "align_items": null,
            "bottom": null,
            "_model_module": "@jupyter-widgets/base",
            "top": null,
            "grid_column": null,
            "overflow_y": null,
            "overflow_x": null,
            "grid_auto_flow": null,
            "grid_area": null,
            "grid_template_columns": null,
            "flex": null,
            "_model_name": "LayoutModel",
            "justify_items": null,
            "grid_row": null,
            "max_height": null,
            "align_content": null,
            "visibility": null,
            "align_self": null,
            "height": null,
            "min_height": null,
            "padding": null,
            "grid_auto_rows": null,
            "grid_gap": null,
            "max_width": null,
            "order": null,
            "_view_module_version": "1.2.0",
            "grid_template_areas": null,
            "object_position": null,
            "object_fit": null,
            "grid_auto_columns": null,
            "margin": null,
            "display": null,
            "left": null
          }
        },
        "27412a64d9534d6e92e0a6d8ce667a9b": {
          "model_module": "@jupyter-widgets/controls",
          "model_name": "HBoxModel",
          "state": {
            "_view_name": "HBoxView",
            "_dom_classes": [],
            "_model_name": "HBoxModel",
            "_view_module": "@jupyter-widgets/controls",
            "_model_module_version": "1.5.0",
            "_view_count": null,
            "_view_module_version": "1.5.0",
            "box_style": "",
            "layout": "IPY_MODEL_acb56522f5224c95bb6373445d895961",
            "_model_module": "@jupyter-widgets/controls",
            "children": [
              "IPY_MODEL_c1a2da70a9d248fdbea26cb45a48d239",
              "IPY_MODEL_04808426857e4587abfa553b64b4f9c7"
            ]
          }
        },
        "acb56522f5224c95bb6373445d895961": {
          "model_module": "@jupyter-widgets/base",
          "model_name": "LayoutModel",
          "state": {
            "_view_name": "LayoutView",
            "grid_template_rows": null,
            "right": null,
            "justify_content": null,
            "_view_module": "@jupyter-widgets/base",
            "overflow": null,
            "_model_module_version": "1.2.0",
            "_view_count": null,
            "flex_flow": null,
            "width": null,
            "min_width": null,
            "border": null,
            "align_items": null,
            "bottom": null,
            "_model_module": "@jupyter-widgets/base",
            "top": null,
            "grid_column": null,
            "overflow_y": null,
            "overflow_x": null,
            "grid_auto_flow": null,
            "grid_area": null,
            "grid_template_columns": null,
            "flex": null,
            "_model_name": "LayoutModel",
            "justify_items": null,
            "grid_row": null,
            "max_height": null,
            "align_content": null,
            "visibility": null,
            "align_self": null,
            "height": null,
            "min_height": null,
            "padding": null,
            "grid_auto_rows": null,
            "grid_gap": null,
            "max_width": null,
            "order": null,
            "_view_module_version": "1.2.0",
            "grid_template_areas": null,
            "object_position": null,
            "object_fit": null,
            "grid_auto_columns": null,
            "margin": null,
            "display": null,
            "left": null
          }
        },
        "c1a2da70a9d248fdbea26cb45a48d239": {
          "model_module": "@jupyter-widgets/controls",
          "model_name": "FloatProgressModel",
          "state": {
            "_view_name": "ProgressView",
            "style": "IPY_MODEL_0f5fc4583bc44bb7bb15c1e1430ae62f",
            "_dom_classes": [],
            "description": "100%",
            "_model_name": "FloatProgressModel",
            "bar_style": "success",
            "max": 3000,
            "_view_module": "@jupyter-widgets/controls",
            "_model_module_version": "1.5.0",
            "value": 3000,
            "_view_count": null,
            "_view_module_version": "1.5.0",
            "orientation": "horizontal",
            "min": 0,
            "description_tooltip": null,
            "_model_module": "@jupyter-widgets/controls",
            "layout": "IPY_MODEL_f65278265ad04cc2b40e0f4493c0dcf5"
          }
        },
        "04808426857e4587abfa553b64b4f9c7": {
          "model_module": "@jupyter-widgets/controls",
          "model_name": "HTMLModel",
          "state": {
            "_view_name": "HTMLView",
            "style": "IPY_MODEL_89cec99a0972445d877a0d421f4a195c",
            "_dom_classes": [],
            "description": "",
            "_model_name": "HTMLModel",
            "placeholder": "​",
            "_view_module": "@jupyter-widgets/controls",
            "_model_module_version": "1.5.0",
            "value": " 3000/3000 [00:00&lt;00:00, 12843.15it/s]",
            "_view_count": null,
            "_view_module_version": "1.5.0",
            "description_tooltip": null,
            "_model_module": "@jupyter-widgets/controls",
            "layout": "IPY_MODEL_1a6036ef7b0743319ebf2166ddbe8563"
          }
        },
        "0f5fc4583bc44bb7bb15c1e1430ae62f": {
          "model_module": "@jupyter-widgets/controls",
          "model_name": "ProgressStyleModel",
          "state": {
            "_view_name": "StyleView",
            "_model_name": "ProgressStyleModel",
            "description_width": "initial",
            "_view_module": "@jupyter-widgets/base",
            "_model_module_version": "1.5.0",
            "_view_count": null,
            "_view_module_version": "1.2.0",
            "bar_color": null,
            "_model_module": "@jupyter-widgets/controls"
          }
        },
        "f65278265ad04cc2b40e0f4493c0dcf5": {
          "model_module": "@jupyter-widgets/base",
          "model_name": "LayoutModel",
          "state": {
            "_view_name": "LayoutView",
            "grid_template_rows": null,
            "right": null,
            "justify_content": null,
            "_view_module": "@jupyter-widgets/base",
            "overflow": null,
            "_model_module_version": "1.2.0",
            "_view_count": null,
            "flex_flow": null,
            "width": null,
            "min_width": null,
            "border": null,
            "align_items": null,
            "bottom": null,
            "_model_module": "@jupyter-widgets/base",
            "top": null,
            "grid_column": null,
            "overflow_y": null,
            "overflow_x": null,
            "grid_auto_flow": null,
            "grid_area": null,
            "grid_template_columns": null,
            "flex": null,
            "_model_name": "LayoutModel",
            "justify_items": null,
            "grid_row": null,
            "max_height": null,
            "align_content": null,
            "visibility": null,
            "align_self": null,
            "height": null,
            "min_height": null,
            "padding": null,
            "grid_auto_rows": null,
            "grid_gap": null,
            "max_width": null,
            "order": null,
            "_view_module_version": "1.2.0",
            "grid_template_areas": null,
            "object_position": null,
            "object_fit": null,
            "grid_auto_columns": null,
            "margin": null,
            "display": null,
            "left": null
          }
        },
        "89cec99a0972445d877a0d421f4a195c": {
          "model_module": "@jupyter-widgets/controls",
          "model_name": "DescriptionStyleModel",
          "state": {
            "_view_name": "StyleView",
            "_model_name": "DescriptionStyleModel",
            "description_width": "",
            "_view_module": "@jupyter-widgets/base",
            "_model_module_version": "1.5.0",
            "_view_count": null,
            "_view_module_version": "1.2.0",
            "_model_module": "@jupyter-widgets/controls"
          }
        },
        "1a6036ef7b0743319ebf2166ddbe8563": {
          "model_module": "@jupyter-widgets/base",
          "model_name": "LayoutModel",
          "state": {
            "_view_name": "LayoutView",
            "grid_template_rows": null,
            "right": null,
            "justify_content": null,
            "_view_module": "@jupyter-widgets/base",
            "overflow": null,
            "_model_module_version": "1.2.0",
            "_view_count": null,
            "flex_flow": null,
            "width": null,
            "min_width": null,
            "border": null,
            "align_items": null,
            "bottom": null,
            "_model_module": "@jupyter-widgets/base",
            "top": null,
            "grid_column": null,
            "overflow_y": null,
            "overflow_x": null,
            "grid_auto_flow": null,
            "grid_area": null,
            "grid_template_columns": null,
            "flex": null,
            "_model_name": "LayoutModel",
            "justify_items": null,
            "grid_row": null,
            "max_height": null,
            "align_content": null,
            "visibility": null,
            "align_self": null,
            "height": null,
            "min_height": null,
            "padding": null,
            "grid_auto_rows": null,
            "grid_gap": null,
            "max_width": null,
            "order": null,
            "_view_module_version": "1.2.0",
            "grid_template_areas": null,
            "object_position": null,
            "object_fit": null,
            "grid_auto_columns": null,
            "margin": null,
            "display": null,
            "left": null
          }
        }
      }
    }
  },
  "cells": [
    {
      "cell_type": "markdown",
      "metadata": {
        "id": "GiVndYS7qHj7"
      },
      "source": [
        "# Data preparation"
      ]
    },
    {
      "cell_type": "code",
      "metadata": {
        "colab": {
          "base_uri": "https://localhost:8080/"
        },
        "id": "W8KuDRIcqXru",
        "outputId": "a0c4f04d-cfec-45ab-cf88-4dbccb0333d9"
      },
      "source": [
        "!pip install pymorphy2[fast]\n",
        "!pip install -U pymorphy2-dicts-ru"
      ],
      "execution_count": 1,
      "outputs": [
        {
          "output_type": "stream",
          "text": [
            "Requirement already satisfied: pymorphy2[fast] in /usr/local/lib/python3.6/dist-packages (0.9.1)\n",
            "Requirement already satisfied: pymorphy2-dicts-ru<3.0,>=2.4 in /usr/local/lib/python3.6/dist-packages (from pymorphy2[fast]) (2.4.417127.4579844)\n",
            "Requirement already satisfied: dawg-python>=0.7.1 in /usr/local/lib/python3.6/dist-packages (from pymorphy2[fast]) (0.7.2)\n",
            "Requirement already satisfied: docopt>=0.6 in /usr/local/lib/python3.6/dist-packages (from pymorphy2[fast]) (0.6.2)\n",
            "Requirement already satisfied: DAWG>=0.8; extra == \"fast\" in /usr/local/lib/python3.6/dist-packages (from pymorphy2[fast]) (0.8.0)\n",
            "Requirement already up-to-date: pymorphy2-dicts-ru in /usr/local/lib/python3.6/dist-packages (2.4.417127.4579844)\n"
          ],
          "name": "stdout"
        }
      ]
    },
    {
      "cell_type": "code",
      "metadata": {
        "id": "c8OHiGqfrJWq"
      },
      "source": [
        "import re\n",
        "\n",
        "import numpy as np        \n",
        "import pymorphy2\n",
        "from tqdm.notebook import tqdm"
      ],
      "execution_count": 2,
      "outputs": []
    },
    {
      "cell_type": "code",
      "metadata": {
        "id": "fcB41mIpV4A1"
      },
      "source": [
        "def get_data(path):\n",
        "    with open(path, \"r\") as f:\n",
        "        for line in f:\n",
        "            label, headline, text = line.strip().split(\"\\t\")\n",
        "            yield label, headline, text\n",
        "\n",
        "def tokenize_text(text):\n",
        "    text = text.lower()\n",
        "    words = re.findall(r'\\b\\w+\\b', text.lower())\n",
        "    return words\n",
        "\n",
        "def prepare_data(path):\n",
        "    data = []\n",
        "    for label, headline, text in get_data(path):\n",
        "        item = {}\n",
        "        item[\"label\"] = label\n",
        "        item[\"headline\"] = tokenize_text(headline)\n",
        "        item[\"text\"] = [tokenize_text(sentance) for sentance in re.split(r\"[.!?]\", text) if len(sentance) > 10]\n",
        "        data.append(item)\n",
        "    return data"
      ],
      "execution_count": 3,
      "outputs": []
    },
    {
      "cell_type": "code",
      "metadata": {
        "colab": {
          "base_uri": "https://localhost:8080/"
        },
        "id": "zdizYGcxsH7T",
        "outputId": "3b8e1c2e-b495-4b83-cd4e-d1bec04e16b1"
      },
      "source": [
        "data_train = prepare_data(\"news_train.txt\")\n",
        "data_test = prepare_data(\"news_test.txt\")\n",
        "data_train[0]"
      ],
      "execution_count": 4,
      "outputs": [
        {
          "output_type": "execute_result",
          "data": {
            "text/plain": [
              "{'headline': ['овечкин',\n",
              "  'пожертвовал',\n",
              "  'детской',\n",
              "  'хоккейной',\n",
              "  'школе',\n",
              "  'автомобиль'],\n",
              " 'label': 'sport',\n",
              " 'text': [['нападающий',\n",
              "   'вашингтон',\n",
              "   'кэпиталз',\n",
              "   'александр',\n",
              "   'овечкин',\n",
              "   'передал',\n",
              "   'детской',\n",
              "   'хоккейной',\n",
              "   'школе',\n",
              "   'автомобиль',\n",
              "   'полученный',\n",
              "   'им',\n",
              "   'после',\n",
              "   'окончания',\n",
              "   'матча',\n",
              "   'всех',\n",
              "   'звезд',\n",
              "   'национальной',\n",
              "   'хоккейной',\n",
              "   'лиги',\n",
              "   'нхл'],\n",
              "  ['об', 'этом', 'сообщается', 'на', 'официальном', 'сайте', 'лиги'],\n",
              "  ['автомобиль',\n",
              "   'honda',\n",
              "   'accord',\n",
              "   'был',\n",
              "   'подарен',\n",
              "   'хоккеисту',\n",
              "   'по',\n",
              "   'решению',\n",
              "   'спонсоров',\n",
              "   'мероприятия'],\n",
              "  ['игрок',\n",
              "   'нхл',\n",
              "   'пожертвовал',\n",
              "   'машину',\n",
              "   'спортивной',\n",
              "   'школе',\n",
              "   'nova',\n",
              "   'cool',\n",
              "   'cats',\n",
              "   'special',\n",
              "   'hockey',\n",
              "   'inc'],\n",
              "  ['которая', 'расположена', 'в', 'штате', 'вирджиния'],\n",
              "  ['овечкин',\n",
              "   'общается',\n",
              "   'с',\n",
              "   '10',\n",
              "   'летней',\n",
              "   'девочкой',\n",
              "   'анной',\n",
              "   'шоб',\n",
              "   'с',\n",
              "   'синдромом',\n",
              "   'дауна',\n",
              "   'которая',\n",
              "   'занимается',\n",
              "   'в',\n",
              "   'этой',\n",
              "   'школе',\n",
              "   'и',\n",
              "   'является',\n",
              "   'поклонницей',\n",
              "   'спортсмена'],\n",
              "  ['в',\n",
              "   'сентябре',\n",
              "   'форвард',\n",
              "   'пообедал',\n",
              "   'вместе',\n",
              "   'с',\n",
              "   'юной',\n",
              "   'хоккеисткой',\n",
              "   'в',\n",
              "   'японском',\n",
              "   'ресторане'],\n",
              "  ['матч',\n",
              "   'всех',\n",
              "   'звезд',\n",
              "   'нхл',\n",
              "   'в',\n",
              "   'коламбусе',\n",
              "   'штат',\n",
              "   'огайо',\n",
              "   'завершился',\n",
              "   'победой',\n",
              "   'команды',\n",
              "   'джонатана',\n",
              "   'тэйвза',\n",
              "   'над',\n",
              "   'командой',\n",
              "   'ника',\n",
              "   'фолиньо',\n",
              "   'со',\n",
              "   'счетом',\n",
              "   '17',\n",
              "   '12'],\n",
              "  ['овечкин', 'выступал', 'за', 'проигравший', 'коллектив'],\n",
              "  ['россиянин', 'отметился', 'тремя', 'результативными', 'передачами']]}"
            ]
          },
          "metadata": {
            "tags": []
          },
          "execution_count": 4
        }
      ]
    },
    {
      "cell_type": "code",
      "metadata": {
        "colab": {
          "base_uri": "https://localhost:8080/",
          "height": 1000,
          "referenced_widgets": [
            "99b6e467a61b4584b7232948e8f39bf7",
            "c477122daf474ecf940b71e053f4cba0",
            "bfe482286ecb42b89bc90ada8fc49e52",
            "24262f3112b94f7e8df43c9f9ddffda4",
            "b79e9fd890da4cde8f7a9d054591d812",
            "f8b2e09432994f4db8a1fa59ad4bfa27",
            "93d2a313d784409692740055128f328a",
            "71914fb1ecb347e498abb58883b2cd01",
            "7862ff93ce054236917df1cc1e5f45ee",
            "4fa8e426b85948f9839cfa29bc75dfe1",
            "d6f07946d0de4b7a87825dc720ed0501",
            "55feb9d1397d4338a08a583813bc4dd8",
            "ed0856b248c64062b64042284afe16e3",
            "f8c6b7bd287c4505ad3ea0e34e7f63dd",
            "03679e68117f4810814417ef3d99c894",
            "663a343e7e2247cab33e7059381a9268"
          ]
        },
        "id": "k6JbOpWGtP-F",
        "outputId": "22c57227-c083-4be0-d222-8aaaa5a30eeb"
      },
      "source": [
        "def postprocess_tokens_(data):\n",
        "    morph = pymorphy2.MorphAnalyzer()\n",
        "    for item in tqdm(data):\n",
        "        item[\"headline\"] = [morph.parse(word)[0].normal_form for word in item[\"headline\"]] \n",
        "        item[\"text\"] = [[morph.parse(word)[0].normal_form for word in sentance] for sentance in item[\"text\"]] \n",
        "\n",
        "postprocess_tokens_(data_train)\n",
        "postprocess_tokens_(data_test)\n",
        "\n",
        "data_train[0]"
      ],
      "execution_count": 5,
      "outputs": [
        {
          "output_type": "display_data",
          "data": {
            "application/vnd.jupyter.widget-view+json": {
              "model_id": "99b6e467a61b4584b7232948e8f39bf7",
              "version_minor": 0,
              "version_major": 2
            },
            "text/plain": [
              "HBox(children=(FloatProgress(value=0.0, max=15000.0), HTML(value='')))"
            ]
          },
          "metadata": {
            "tags": []
          }
        },
        {
          "output_type": "stream",
          "text": [
            "\n"
          ],
          "name": "stdout"
        },
        {
          "output_type": "display_data",
          "data": {
            "application/vnd.jupyter.widget-view+json": {
              "model_id": "7862ff93ce054236917df1cc1e5f45ee",
              "version_minor": 0,
              "version_major": 2
            },
            "text/plain": [
              "HBox(children=(FloatProgress(value=0.0, max=3000.0), HTML(value='')))"
            ]
          },
          "metadata": {
            "tags": []
          }
        },
        {
          "output_type": "stream",
          "text": [
            "\n"
          ],
          "name": "stdout"
        },
        {
          "output_type": "execute_result",
          "data": {
            "text/plain": [
              "{'headline': ['овечкин',\n",
              "  'пожертвовать',\n",
              "  'детский',\n",
              "  'хоккейный',\n",
              "  'школа',\n",
              "  'автомобиль'],\n",
              " 'label': 'sport',\n",
              " 'text': [['нападать',\n",
              "   'вашингтон',\n",
              "   'кэпиталзти',\n",
              "   'александр',\n",
              "   'овечкин',\n",
              "   'передать',\n",
              "   'детский',\n",
              "   'хоккейный',\n",
              "   'школа',\n",
              "   'автомобиль',\n",
              "   'получить',\n",
              "   'они',\n",
              "   'после',\n",
              "   'окончание',\n",
              "   'матч',\n",
              "   'весь',\n",
              "   'звезда',\n",
              "   'национальный',\n",
              "   'хоккейный',\n",
              "   'лига',\n",
              "   'нхл'],\n",
              "  ['о', 'это', 'сообщаться', 'на', 'официальный', 'сайт', 'лига'],\n",
              "  ['автомобиль',\n",
              "   'honda',\n",
              "   'accord',\n",
              "   'быть',\n",
              "   'подарить',\n",
              "   'хоккеист',\n",
              "   'по',\n",
              "   'решение',\n",
              "   'спонсор',\n",
              "   'мероприятие'],\n",
              "  ['игрок',\n",
              "   'нхл',\n",
              "   'пожертвовать',\n",
              "   'машина',\n",
              "   'спортивный',\n",
              "   'школа',\n",
              "   'nova',\n",
              "   'cool',\n",
              "   'cats',\n",
              "   'special',\n",
              "   'hockey',\n",
              "   'inc'],\n",
              "  ['который', 'расположить', 'в', 'штат', 'вирджиния'],\n",
              "  ['овечкин',\n",
              "   'общаться',\n",
              "   'с',\n",
              "   '10',\n",
              "   'летний',\n",
              "   'девочка',\n",
              "   'анна',\n",
              "   'чтоб',\n",
              "   'с',\n",
              "   'синдром',\n",
              "   'даун',\n",
              "   'который',\n",
              "   'заниматься',\n",
              "   'в',\n",
              "   'этот',\n",
              "   'школа',\n",
              "   'и',\n",
              "   'являться',\n",
              "   'поклонница',\n",
              "   'спортсмен'],\n",
              "  ['в',\n",
              "   'сентябрь',\n",
              "   'форвард',\n",
              "   'пообедать',\n",
              "   'вместе',\n",
              "   'с',\n",
              "   'юный',\n",
              "   'хоккеистка',\n",
              "   'в',\n",
              "   'японский',\n",
              "   'ресторан'],\n",
              "  ['матч',\n",
              "   'весь',\n",
              "   'звезда',\n",
              "   'нхл',\n",
              "   'в',\n",
              "   'коламбус',\n",
              "   'штат',\n",
              "   'огайо',\n",
              "   'завершиться',\n",
              "   'победа',\n",
              "   'команда',\n",
              "   'джонатан',\n",
              "   'тэйвз',\n",
              "   'над',\n",
              "   'команда',\n",
              "   'ник',\n",
              "   'фолиньо',\n",
              "   'с',\n",
              "   'счёт',\n",
              "   '17',\n",
              "   '12'],\n",
              "  ['овечкин', 'выступать', 'за', 'проиграть', 'коллектив'],\n",
              "  ['россиянин', 'отметиться', 'три', 'результативный', 'передача']]}"
            ]
          },
          "metadata": {
            "tags": []
          },
          "execution_count": 5
        }
      ]
    },
    {
      "cell_type": "markdown",
      "metadata": {
        "id": "SmKEymsBspWM"
      },
      "source": [
        "# Embeddings"
      ]
    },
    {
      "cell_type": "code",
      "metadata": {
        "id": "NC1CboOBvIJc"
      },
      "source": [
        "from gensim.models import Word2Vec\n",
        "\n",
        "sentences = [item[\"headline\"] for item in data_train]\n",
        "sentences.extend([sentance for item in data_train for sentance in item[\"text\"]])\n",
        "\n",
        "w2v = Word2Vec(sentences, workers=8)"
      ],
      "execution_count": 6,
      "outputs": []
    },
    {
      "cell_type": "code",
      "metadata": {
        "colab": {
          "base_uri": "https://localhost:8080/"
        },
        "id": "GgrbAOC8wt9Y",
        "outputId": "85238ae1-c553-4afb-8a88-3926058fdb04"
      },
      "source": [
        "print(w2v.wv.most_similar(positive=[\"октябрь\"]))\n",
        "print(w2v.wv.most_similar(positive=[\"неделя\"]))"
      ],
      "execution_count": 7,
      "outputs": [
        {
          "output_type": "stream",
          "text": [
            "[('май', 0.9765411615371704), ('сентябрь', 0.9742979407310486), ('ноябрь', 0.9734973907470703), ('февраль', 0.9723489880561829), ('декабрь', 0.9681745767593384), ('март', 0.9672043323516846), ('апрель', 0.963692307472229), ('август', 0.9618683457374573), ('июль', 0.9608937501907349), ('июнь', 0.9535524845123291)]\n",
            "[('месяц', 0.8521589040756226), ('день', 0.7880641222000122), ('полгода', 0.7696123123168945), ('выходной', 0.7487046122550964), ('десятилетие', 0.7257879972457886), ('сутки', 0.6303057670593262), ('час', 0.6269206404685974), ('раз', 0.5945150852203369), ('сезон', 0.5917405486106873), ('сразу', 0.5889211893081665)]\n"
          ],
          "name": "stdout"
        },
        {
          "output_type": "stream",
          "text": [
            "/usr/local/lib/python3.6/dist-packages/gensim/matutils.py:737: FutureWarning: Conversion of the second argument of issubdtype from `int` to `np.signedinteger` is deprecated. In future, it will be treated as `np.int64 == np.dtype(int).type`.\n",
            "  if np.issubdtype(vec.dtype, np.int):\n"
          ],
          "name": "stderr"
        }
      ]
    },
    {
      "cell_type": "markdown",
      "metadata": {
        "id": "B1UVVRWksuOc"
      },
      "source": [
        "# Classification"
      ]
    },
    {
      "cell_type": "code",
      "metadata": {
        "colab": {
          "base_uri": "https://localhost:8080/",
          "height": 115,
          "referenced_widgets": [
            "94e008dbf61d487ea17fdee69889cdf9",
            "2db5df90df7046949d40b41de87589f4",
            "fe3c6bb1ce8649419e7f501788ee7606",
            "990b9b2758194363bf2934f7c84a9772",
            "c8420ce3804d43b1b2f55e24a7f66d8b",
            "28e25b62825249d2b4c0d5e181c7c8c0",
            "48078771fe384e38a46ec6a1126126ca",
            "e99867cc405a48b7b73ccd419ddf3999",
            "86f3b2aeb89244b7b137d015ffffe7ae",
            "79689c444409490b998bb26807a9316b",
            "63dc39a40207436da32c624d6d05f022",
            "0b35e7b24ec94124917e6faa67c0875a",
            "658c507c5fa543f9845fe743705dec30",
            "a42405325ef74934a3158b4ff11df9fc",
            "518e4454c26b447683dfb10bbdfad85c",
            "4055fbba661849a397d198064091c131"
          ]
        },
        "id": "cxlcOrxtkxzG",
        "outputId": "7824c970-41ba-4f21-88d8-a543ef95653d"
      },
      "source": [
        "max_item_len = 140\n",
        "label2idx = {}\n",
        "\n",
        "def word2vec(word):\n",
        "    if word in w2v.wv:\n",
        "        return w2v.wv[word]\n",
        "    return np.zeros((w2v.wv.vector_size,))\n",
        "\n",
        "def prepare_data(data):\n",
        "    X = []\n",
        "    y = []\n",
        "\n",
        "    for item in tqdm(data):\n",
        "        label = item[\"label\"]\n",
        "        headline = item[\"headline\"]\n",
        "        text = item[\"text\"]\n",
        "\n",
        "        label_idx = label2idx.get(label, len(label2idx))\n",
        "        label2idx[label] = label_idx\n",
        "\n",
        "        word_idx = 0\n",
        "        sent_idx = 0\n",
        "        pos_in_sent = 0\n",
        "\n",
        "        x = np.zeros(140*100)\n",
        "\n",
        "        while word_idx < max_item_len:\n",
        "            if word_idx < len(headline):\n",
        "                x[100 * word_idx: 100 * word_idx + 100] = word2vec(headline[word_idx])\n",
        "                word_idx += 1\n",
        "            else:\n",
        "                if pos_in_sent < len(text[sent_idx]):\n",
        "                    x[100 * word_idx: 100 * word_idx + 100] = word2vec(text[sent_idx][pos_in_sent])\n",
        "                    word_idx += 1\n",
        "                    pos_in_sent += 1\n",
        "                elif sent_idx < len(text) - 1:\n",
        "                    sent_idx += 1\n",
        "                    pos_in_sent = 0\n",
        "                else:\n",
        "                    word_idx += 1\n",
        "\n",
        "        X.append(x)\n",
        "        y.append(label_idx)\n",
        "    \n",
        "    return np.array(X), np.array(y)\n",
        "\n",
        "X_train, y_train = prepare_data(data_train)\n",
        "X_test, y_test = prepare_data(data_test)"
      ],
      "execution_count": 8,
      "outputs": [
        {
          "output_type": "display_data",
          "data": {
            "application/vnd.jupyter.widget-view+json": {
              "model_id": "94e008dbf61d487ea17fdee69889cdf9",
              "version_minor": 0,
              "version_major": 2
            },
            "text/plain": [
              "HBox(children=(FloatProgress(value=0.0, max=15000.0), HTML(value='')))"
            ]
          },
          "metadata": {
            "tags": []
          }
        },
        {
          "output_type": "stream",
          "text": [
            "\n"
          ],
          "name": "stdout"
        },
        {
          "output_type": "display_data",
          "data": {
            "application/vnd.jupyter.widget-view+json": {
              "model_id": "86f3b2aeb89244b7b137d015ffffe7ae",
              "version_minor": 0,
              "version_major": 2
            },
            "text/plain": [
              "HBox(children=(FloatProgress(value=0.0, max=3000.0), HTML(value='')))"
            ]
          },
          "metadata": {
            "tags": []
          }
        },
        {
          "output_type": "stream",
          "text": [
            "\n"
          ],
          "name": "stdout"
        }
      ]
    },
    {
      "cell_type": "code",
      "metadata": {
        "colab": {
          "base_uri": "https://localhost:8080/"
        },
        "id": "X_eVAJwx1DPk",
        "outputId": "ebb13202-1f30-4b7a-eafa-b16228de86fa"
      },
      "source": [
        "X_train.shape, y_train.shape, y_train.min(), y_train.max()"
      ],
      "execution_count": 9,
      "outputs": [
        {
          "output_type": "execute_result",
          "data": {
            "text/plain": [
              "((15000, 14000), (15000,), 0, 9)"
            ]
          },
          "metadata": {
            "tags": []
          },
          "execution_count": 9
        }
      ]
    },
    {
      "cell_type": "code",
      "metadata": {
        "colab": {
          "base_uri": "https://localhost:8080/"
        },
        "id": "fiTEW-CW2p_W",
        "outputId": "06f5e1bd-cd3f-4c99-ea10-ff8f65273351"
      },
      "source": [
        "X_test.shape, y_test.shape, y_test.min(), y_test.max()"
      ],
      "execution_count": 10,
      "outputs": [
        {
          "output_type": "execute_result",
          "data": {
            "text/plain": [
              "((3000, 14000), (3000,), 0, 9)"
            ]
          },
          "metadata": {
            "tags": []
          },
          "execution_count": 10
        }
      ]
    },
    {
      "cell_type": "code",
      "metadata": {
        "colab": {
          "base_uri": "https://localhost:8080/",
          "height": 115,
          "referenced_widgets": [
            "47449fc50c854e85acbc9a078909bc41",
            "8f48e9cc363d491cb4389413f8e4d7a5",
            "069b74a73bc74d32be2238f2da3d6690",
            "301f9b29d7924788af5e05c187f7ef01",
            "17424cb5dd4e4bf7b1ceb84ae4d51364",
            "78e43caeaa2348aaa7a346b790522516",
            "004bdf126cb0441eb4b01fdedddd6444",
            "934fc2590eba423caae7bf347ad9d6da",
            "27412a64d9534d6e92e0a6d8ce667a9b",
            "acb56522f5224c95bb6373445d895961",
            "c1a2da70a9d248fdbea26cb45a48d239",
            "04808426857e4587abfa553b64b4f9c7",
            "0f5fc4583bc44bb7bb15c1e1430ae62f",
            "f65278265ad04cc2b40e0f4493c0dcf5",
            "89cec99a0972445d877a0d421f4a195c",
            "1a6036ef7b0743319ebf2166ddbe8563"
          ]
        },
        "id": "PDFpwWzq1wko",
        "outputId": "97584aed-0272-438b-e4c0-11d077e940d6"
      },
      "source": [
        "def prepere_tfidf(data):\n",
        "    X = []\n",
        "    y = []\n",
        "\n",
        "    for item in tqdm(data):\n",
        "        label = item[\"label\"]\n",
        "        headline = item[\"headline\"]\n",
        "        text = item[\"text\"]\n",
        "\n",
        "        label_idx = label2idx.get(label, len(label2idx))\n",
        "        label2idx[label] = label_idx\n",
        "\n",
        "        word_idx = 0\n",
        "        sent_idx = 0\n",
        "        pos_in_sent = 0\n",
        "\n",
        "        x = []\n",
        "\n",
        "        while word_idx < max_item_len:\n",
        "            if word_idx < len(headline):\n",
        "                x.append(headline[word_idx])\n",
        "                word_idx += 1\n",
        "            else:\n",
        "                if pos_in_sent < len(text[sent_idx]):\n",
        "                    x.append(text[sent_idx][pos_in_sent])\n",
        "                    word_idx += 1\n",
        "                    pos_in_sent += 1\n",
        "                elif sent_idx < len(text) - 1:\n",
        "                    sent_idx += 1\n",
        "                    pos_in_sent = 0\n",
        "                else:\n",
        "                    x.append(\"PLACEHOLDER\")\n",
        "                    word_idx += 1\n",
        "\n",
        "        X.append(\" \".join(x))\n",
        "        y.append(label_idx)\n",
        "    \n",
        "    return X, y\n",
        "\n",
        "X_train_idf, y_train = prepere_tfidf(data_train)\n",
        "X_test_idf, y_test = prepere_tfidf(data_test)"
      ],
      "execution_count": 11,
      "outputs": [
        {
          "output_type": "display_data",
          "data": {
            "application/vnd.jupyter.widget-view+json": {
              "model_id": "47449fc50c854e85acbc9a078909bc41",
              "version_minor": 0,
              "version_major": 2
            },
            "text/plain": [
              "HBox(children=(FloatProgress(value=0.0, max=15000.0), HTML(value='')))"
            ]
          },
          "metadata": {
            "tags": []
          }
        },
        {
          "output_type": "stream",
          "text": [
            "\n"
          ],
          "name": "stdout"
        },
        {
          "output_type": "display_data",
          "data": {
            "application/vnd.jupyter.widget-view+json": {
              "model_id": "27412a64d9534d6e92e0a6d8ce667a9b",
              "version_minor": 0,
              "version_major": 2
            },
            "text/plain": [
              "HBox(children=(FloatProgress(value=0.0, max=3000.0), HTML(value='')))"
            ]
          },
          "metadata": {
            "tags": []
          }
        },
        {
          "output_type": "stream",
          "text": [
            "\n"
          ],
          "name": "stdout"
        }
      ]
    },
    {
      "cell_type": "code",
      "metadata": {
        "id": "1MlgOH5h33Tn"
      },
      "source": [
        "from sklearn.feature_extraction.text import TfidfVectorizer\n",
        "\n",
        "tfidf = TfidfVectorizer()\n",
        "X_train_idf = tfidf.fit_transform(X_train_idf)\n",
        "X_test_idf = tfidf.transform(X_test_idf)"
      ],
      "execution_count": 12,
      "outputs": []
    },
    {
      "cell_type": "code",
      "metadata": {
        "colab": {
          "base_uri": "https://localhost:8080/"
        },
        "id": "hx_qKSZ5827V",
        "outputId": "714c35b7-44e5-4a8e-ac45-23853989d7ea"
      },
      "source": [
        "X_train_idf.shape"
      ],
      "execution_count": 13,
      "outputs": [
        {
          "output_type": "execute_result",
          "data": {
            "text/plain": [
              "(15000, 75061)"
            ]
          },
          "metadata": {
            "tags": []
          },
          "execution_count": 13
        }
      ]
    },
    {
      "cell_type": "code",
      "metadata": {
        "colab": {
          "base_uri": "https://localhost:8080/"
        },
        "id": "dWj1GpN-8maK",
        "outputId": "f1c5ee1f-e5fe-4852-d36a-5a4e5eb555e6"
      },
      "source": [
        "from sklearn.linear_model import LogisticRegression\n",
        "\n",
        "clf = LogisticRegression(n_jobs=-1)\n",
        "clf.fit(X_train_idf, y_train)\n",
        "preds = clf.predict(X_test_idf)\n",
        "print(f\"accuracy = {(y_test == preds).mean()}\")"
      ],
      "execution_count": 14,
      "outputs": [
        {
          "output_type": "stream",
          "text": [
            "accuracy = 0.859\n"
          ],
          "name": "stdout"
        }
      ]
    },
    {
      "cell_type": "code",
      "metadata": {
        "colab": {
          "base_uri": "https://localhost:8080/"
        },
        "id": "HnWcHPd09Czl",
        "outputId": "380e8d2b-6714-4d1e-fed8-809c7b46dbcf"
      },
      "source": [
        "from sklearn.naive_bayes import MultinomialNB\n",
        "\n",
        "clf = MultinomialNB()\n",
        "clf.fit(X_train_idf, y_train)\n",
        "preds = clf.predict(X_test_idf)\n",
        "print(f\"accuracy = {(y_test == preds).mean()}\")"
      ],
      "execution_count": 15,
      "outputs": [
        {
          "output_type": "stream",
          "text": [
            "accuracy = 0.798\n"
          ],
          "name": "stdout"
        }
      ]
    },
    {
      "cell_type": "code",
      "metadata": {
        "id": "OUO03p0Z9bj-"
      },
      "source": [
        ""
      ],
      "execution_count": 15,
      "outputs": []
    }
  ]
}