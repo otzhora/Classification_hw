{
 "cells": [
  {
   "cell_type": "markdown",
   "metadata": {},
   "source": [
    "# Reading data"
   ]
  },
  {
   "cell_type": "code",
   "execution_count": 1,
   "metadata": {},
   "outputs": [],
   "source": [
    "import numpy as np\n",
    "import torch\n",
    "\n",
    "D = np.loadtxt('data/lin_reg.txt', delimiter=',')\n",
    "X = D[:, :-1]\n",
    "y = D[:, -1]\n",
    "\n",
    "X = torch.tensor(X, dtype=torch.float)\n",
    "y = torch.tensor(y, dtype=torch.float)\n",
    "\n",
    "X = torch.hstack((torch.ones(X.shape[0], 1), X))"
   ]
  },
  {
   "cell_type": "markdown",
   "metadata": {},
   "source": [
    "# Linear regression"
   ]
  },
  {
   "cell_type": "code",
   "execution_count": 2,
   "metadata": {},
   "outputs": [],
   "source": [
    "from tqdm.notebook import tqdm\n",
    "\n",
    "\n",
    "def mse(y_true, y_pred):\n",
    "    return (y_true - y_pred).pow(2).mean()\n",
    "\n",
    "\n",
    "class LinearRegression:\n",
    "    def __init__(self, lr=0.001, momentum=0.9, loss=mse, regulization=\"L2\", C=0.1, epochs=100, batch_size=100):\n",
    "        self.lr = lr\n",
    "        self.momentum = momentum\n",
    "        self.loss = loss\n",
    "        self.reguliztion = regulization\n",
    "        self.C = C\n",
    "        self.batch_size=batch_size\n",
    "        \n",
    "        self.theta = None\n",
    "        self.losses = None\n",
    "        self.prev_grad = 0\n",
    "        self.epochs = 100\n",
    "        \n",
    "    def fit(self, X, y, disable_bar=False):\n",
    "        self.theta = torch.rand(X.shape[1], requires_grad=True)\n",
    "        \n",
    "        epoch = 0\n",
    "        self.losses = []\n",
    "        n_iters = X.shape[0] // self.batch_size\n",
    "        \n",
    "        for epoch in tqdm(range(self.epochs), disable=disable_bar):\n",
    "            loss_acc = 0\n",
    "            for i in range(n_iters):\n",
    "                y_pred = X[i * self.batch_size: (i + 1) * self.batch_size] @ self.theta\n",
    "                loss = self.loss(y[i * self.batch_size: (i + 1) * self.batch_size], y_pred)\n",
    "\n",
    "                if self.reguliztion == \"L2\":\n",
    "                    loss += self.C * torch.norm(self.theta)\n",
    "\n",
    "                loss.backward()\n",
    "\n",
    "                with torch.no_grad():\n",
    "                    loss_acc += loss.item()\n",
    "\n",
    "                    grad = self.lr * self.theta.grad\n",
    "                    if self.momentum:\n",
    "                        grad += self.momentum * self.prev_grad\n",
    "\n",
    "                    self.theta -= grad\n",
    "                    self.prev_grad = grad\n",
    "\n",
    "                    self.theta.grad.zero_()\n",
    "                        \n",
    "            self.losses.append(loss_acc / n_iters)\n",
    "\n",
    "    \n",
    "    def predict(self, X):\n",
    "        return X @ self.theta"
   ]
  },
  {
   "cell_type": "code",
   "execution_count": 3,
   "metadata": {},
   "outputs": [
    {
     "data": {
      "application/vnd.jupyter.widget-view+json": {
       "model_id": "c27c7fa52982485a875a7c4297043083",
       "version_major": 2,
       "version_minor": 0
      },
      "text/plain": [
       "HBox(children=(HTML(value=''), FloatProgress(value=0.0), HTML(value='')))"
      ]
     },
     "metadata": {},
     "output_type": "display_data"
    },
    {
     "name": "stdout",
     "output_type": "stream",
     "text": [
      "\n"
     ]
    }
   ],
   "source": [
    "reg = LinearRegression(lr=0.0005, C=1, momentum=0.9, batch_size=100)\n",
    "\n",
    "reg.fit(X, y)"
   ]
  },
  {
   "cell_type": "code",
   "execution_count": 4,
   "metadata": {},
   "outputs": [
    {
     "data": {
      "text/plain": [
       "tensor(95.1465, grad_fn=<MeanBackward0>)"
      ]
     },
     "execution_count": 4,
     "metadata": {},
     "output_type": "execute_result"
    }
   ],
   "source": [
    "y_pred = reg.predict(X)\n",
    "mse(y, y_pred)"
   ]
  },
  {
   "cell_type": "markdown",
   "metadata": {},
   "source": [
    "# Visualization"
   ]
  },
  {
   "cell_type": "code",
   "execution_count": 5,
   "metadata": {},
   "outputs": [
    {
     "data": {
      "image/png": "[encoded data removed]",
      "text/plain": [
       "<Figure size 1152x648 with 1 Axes>"
      ]
     },
     "metadata": {
      "needs_background": "light"
     },
     "output_type": "display_data"
    }
   ],
   "source": [
    "from matplotlib import pyplot as plt\n",
    "\n",
    "\n",
    "def plot_losses(reg, color=\"r\", label=\"Learning losses\"):\n",
    "    plt.plot(reg.losses, color, label=label)\n",
    "\n",
    "plt.figure(figsize=(16, 9))\n",
    "plot_losses(reg)\n",
    "plt.legend()\n",
    "plt.show()"
   ]
  },
  {
   "cell_type": "code",
   "execution_count": 6,
   "metadata": {},
   "outputs": [],
   "source": [
    "def plot_C(losses, Cs, color=\"r\", label=\"val mse\"):\n",
    "    plt.plot(cs, losses, color=color, label=label)\n",
    "    plt.xlabel(\"C\")\n",
    "    plt.ylabel(\"mse\")"
   ]
  },
  {
   "cell_type": "code",
   "execution_count": 7,
   "metadata": {},
   "outputs": [],
   "source": [
    "c_losses = []\n",
    "train_losses = []\n",
    "cs = np.arange(0.01, 10, 0.3)\n",
    "\n",
    "for C in cs:\n",
    "    reg = LinearRegression(C=C)\n",
    "\n",
    "    reg.fit(X, y, disable_bar=True)\n",
    "    \n",
    "    y_pred = reg.predict(X)\n",
    "    c_losses.append(mse(y, y_pred))"
   ]
  },
  {
   "cell_type": "code",
   "execution_count": 8,
   "metadata": {},
   "outputs": [
    {
     "data": {
      "image/png": "[encoded data removed]",
      "text/plain": [
       "<Figure size 1152x648 with 1 Axes>"
      ]
     },
     "metadata": {
      "needs_background": "light"
     },
     "output_type": "display_data"
    }
   ],
   "source": [
    "plt.figure(figsize=(16, 9))\n",
    "plot_C(c_losses, cs, label=\"MSE on all data\")\n",
    "plt.legend()\n",
    "plt.show()"
   ]
  },
  {
   "cell_type": "markdown",
   "metadata": {},
   "source": [
    "# CV"
   ]
  },
  {
   "cell_type": "code",
   "execution_count": 9,
   "metadata": {},
   "outputs": [],
   "source": [
    "class CrossVal:\n",
    "    def __init__(self, n_items, n_splits=5):\n",
    "        self.n_items = n_items\n",
    "        self.splits = []\n",
    "        \n",
    "        indicies = np.arange(n_items)\n",
    "        split_size = n_items // n_splits\n",
    "        \n",
    "        for i in range(n_splits):\n",
    "            train_indicies = indicies[0: i * split_size]\n",
    "            train_indicies = np.hstack((train_indicies, indicies[(i+1) * split_size:]))\n",
    "            \n",
    "            val_indicies = indicies[i * split_size: (i + 1) * split_size]\n",
    "            self.splits.append((train_indicies, val_indicies))"
   ]
  },
  {
   "cell_type": "code",
   "execution_count": 10,
   "metadata": {},
   "outputs": [],
   "source": [
    "def cross_val_score(Regressor, X, y, n_splits=5, **params):\n",
    "    reg = Regressor(**params)\n",
    "    \n",
    "    scores = np.zeros(n_splits)\n",
    "    train_scores = np.zeros(n_splits)\n",
    "    cv = CrossVal(X.shape[0])\n",
    "\n",
    "    for i, (train_indicies, val_indicies) in enumerate(cv.splits):\n",
    "        reg.fit(X[train_indicies], y[train_indicies], disable_bar=True)\n",
    "        y_pred = reg.predict(X[val_indicies])\n",
    "        scores[i] = mse(y[val_indicies], y_pred)\n",
    "        y_pred = reg.predict(X[train_indicies])\n",
    "        train_scores[i] = mse(y[train_indicies], y_pred)\n",
    "        \n",
    "    return scores, train_scores"
   ]
  },
  {
   "cell_type": "code",
   "execution_count": 11,
   "metadata": {},
   "outputs": [
    {
     "data": {
      "text/plain": [
       "(array([ 89.70317078,  90.63030243, 107.84492493, 108.84643555,\n",
       "        104.96100616]),\n",
       " array([101.83039093, 101.41611481,  98.44597626,  95.10093689,\n",
       "         98.1720047 ]))"
      ]
     },
     "execution_count": 11,
     "metadata": {},
     "output_type": "execute_result"
    }
   ],
   "source": [
    "cross_val_score(LinearRegression, X, y, C=20)"
   ]
  },
  {
   "cell_type": "code",
   "execution_count": 12,
   "metadata": {},
   "outputs": [
    {
     "data": {
      "image/png": "[encoded data removed]",
      "text/plain": [
       "<Figure size 1152x648 with 1 Axes>"
      ]
     },
     "metadata": {
      "needs_background": "light"
     },
     "output_type": "display_data"
    }
   ],
   "source": [
    "c_losses = []\n",
    "train_losses = []\n",
    "cs = np.arange(0.01, 10, 0.3)\n",
    "\n",
    "for C in cs:\n",
    "    scores, train_scores = cross_val_score(LinearRegression, X, y, C=C, momentum=0.8)\n",
    "    c_losses.append(scores.mean())\n",
    "    train_losses.append(train_scores.mean())\n",
    "    \n",
    "plt.figure(figsize=(16, 9))\n",
    "plot_C(c_losses, cs, label=\"mse on val\")\n",
    "plot_C(train_losses, cs, color=\"b\", label=\"mse on train\")\n",
    "plt.legend()\n",
    "plt.show()"
   ]
  },
  {
   "cell_type": "markdown",
   "metadata": {},
   "source": [
    "# RandomSearcvCV"
   ]
  },
  {
   "cell_type": "code",
   "execution_count": 15,
   "metadata": {},
   "outputs": [],
   "source": [
    "import random\n",
    "\n",
    "class RandomSearchCV:\n",
    "    def __init__(self, n_trials, params_bound, n_splits=5):\n",
    "        self.n_trials = n_trials\n",
    "        self.params_bound = params_bound\n",
    "        self.n_splits = n_splits\n",
    "        \n",
    "    def search(self, Regressor, X, y):\n",
    "        scores = []\n",
    "        for i in tqdm(range(self.n_trials)):\n",
    "            params = {\n",
    "                key: random.uniform(v[0], v[1])\n",
    "                for key, v in self.params_bound.items()\n",
    "            }\n",
    "            scores.append({\n",
    "                \"params\": params,\n",
    "                \"scores\": cross_val_score(Regressor, X, y, n_splits=self.n_splits, **params)[0].mean()\n",
    "            })\n",
    "        return scores"
   ]
  },
  {
   "cell_type": "code",
   "execution_count": 16,
   "metadata": {},
   "outputs": [
    {
     "data": {
      "application/vnd.jupyter.widget-view+json": {
       "model_id": "9054a37472874071a705082df4837f26",
       "version_major": 2,
       "version_minor": 0
      },
      "text/plain": [
       "HBox(children=(HTML(value=''), FloatProgress(value=0.0), HTML(value='')))"
      ]
     },
     "metadata": {},
     "output_type": "display_data"
    },
    {
     "name": "stdout",
     "output_type": "stream",
     "text": [
      "\n"
     ]
    }
   ],
   "source": [
    "search = RandomSearchCV(100, {\n",
    "    \"lr\": (0.001, 0.00001),\n",
    "    \"C\": (0.1, 10),\n",
    "    \"momentum\": (0.5, 0.95)\n",
    "})\n",
    "\n",
    "results = search.search(LinearRegression, X, y)"
   ]
  },
  {
   "cell_type": "code",
   "execution_count": 17,
   "metadata": {},
   "outputs": [
    {
     "data": {
      "text/plain": [
       "{'params': {'lr': 0.0007143512995768995,\n",
       "  'C': 1.2893915178182445,\n",
       "  'momentum': 0.9408095847870013},\n",
       " 'scores': 97.04988555908203}"
      ]
     },
     "execution_count": 17,
     "metadata": {},
     "output_type": "execute_result"
    }
   ],
   "source": [
    "sorted(results, key=lambda x: x[\"scores\"])[0]"
   ]
  },
  {
   "cell_type": "markdown",
   "metadata": {},
   "source": [
    "# comparison to sklearn "
   ]
  },
  {
   "cell_type": "code",
   "execution_count": 26,
   "metadata": {},
   "outputs": [],
   "source": [
    "import sklearn\n",
    "from sklearn.linear_model import LinearRegression\n",
    "from sklearn.model_selection import cross_val_score"
   ]
  },
  {
   "cell_type": "code",
   "execution_count": 20,
   "metadata": {},
   "outputs": [],
   "source": [
    "D = np.loadtxt('data/lin_reg.txt', delimiter=',')\n",
    "X = D[:, :-1]\n",
    "y = D[:, -1]"
   ]
  },
  {
   "cell_type": "code",
   "execution_count": 30,
   "metadata": {},
   "outputs": [
    {
     "data": {
      "text/plain": [
       "95.9838057120177"
      ]
     },
     "execution_count": 30,
     "metadata": {},
     "output_type": "execute_result"
    }
   ],
   "source": [
    "-cross_val_score(LinearRegression(), X, y, cv=5, scoring=\"neg_mean_squared_error\").mean()"
   ]
  },
  {
   "cell_type": "code",
   "execution_count": 31,
   "metadata": {},
   "outputs": [],
   "source": [
    "LinearRegression??"
   ]
  },
  {
   "cell_type": "code",
   "execution_count": null,
   "metadata": {},
   "outputs": [],
   "source": []
  }
 ],
 "metadata": {
  "kernelspec": {
   "display_name": "Python 3",
   "language": "python",
   "name": "python3"
  },
  "language_info": {
   "codemirror_mode": {
    "name": "ipython",
    "version": 3
   },
   "file_extension": ".py",
   "mimetype": "text/x-python",
   "name": "python",
   "nbconvert_exporter": "python",
   "pygments_lexer": "ipython3",
   "version": "3.6.10"
  }
 },
 "nbformat": 4,
 "nbformat_minor": 4
}
